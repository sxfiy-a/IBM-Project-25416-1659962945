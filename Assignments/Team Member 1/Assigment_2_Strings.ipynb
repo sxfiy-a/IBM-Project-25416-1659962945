{
  "nbformat": 4,
  "nbformat_minor": 0,
  "metadata": {
    "colab": {
      "provenance": [],
      "collapsed_sections": []
    },
    "kernelspec": {
      "name": "python3",
      "display_name": "Python 3"
    },
    "language_info": {
      "name": "python"
    }
  },
  "cells": [
    {
      "cell_type": "markdown",
      "source": [
        "**String manipulations**"
      ],
      "metadata": {
        "id": "nObO_8cJU1MU"
      }
    },
    {
      "cell_type": "code",
      "execution_count": 8,
      "metadata": {
        "id": "Xben_hW7UyfU",
        "colab": {
          "base_uri": "https://localhost:8080/"
        },
        "outputId": "2c100ed9-a71d-41e5-cebe-aa463916328a"
      },
      "outputs": [
        {
          "output_type": "stream",
          "name": "stdout",
          "text": [
            "Welcome toPython\n",
            "Welcome to Python\n"
          ]
        }
      ],
      "source": [
        "a = \"Welcome to\"\n",
        "b = \"Python\"\n",
        "c = a + b\n",
        "d = a + \" \" + b\n",
        "print(c) \n",
        "print(d) \n",
        "\n"
      ]
    },
    {
      "cell_type": "markdown",
      "source": [
        "**Slicing**"
      ],
      "metadata": {
        "id": "y2hNVq5tPaOi"
      }
    },
    {
      "cell_type": "code",
      "source": [
        "e = \"Hello World\"\n",
        "print(e[4:7]) "
      ],
      "metadata": {
        "colab": {
          "base_uri": "https://localhost:8080/"
        },
        "id": "YAgQGzZ-PW6Y",
        "outputId": "60b46677-e519-4a82-bdeb-c0c18a699242"
      },
      "execution_count": 10,
      "outputs": [
        {
          "output_type": "stream",
          "name": "stdout",
          "text": [
            "o W\n"
          ]
        }
      ]
    },
    {
      "cell_type": "markdown",
      "source": [
        "**Convert to lowercase**"
      ],
      "metadata": {
        "id": "tbqZ-qpoRGQw"
      }
    },
    {
      "cell_type": "code",
      "source": [
        "f = \"UPPERCASE STRING\"\n",
        "print(f.lower()) "
      ],
      "metadata": {
        "colab": {
          "base_uri": "https://localhost:8080/"
        },
        "id": "IzP7P8N_RIgA",
        "outputId": "3cc29fe5-0823-45b4-da37-885b2be3e601"
      },
      "execution_count": 6,
      "outputs": [
        {
          "output_type": "stream",
          "name": "stdout",
          "text": [
            "uppercase string\n"
          ]
        }
      ]
    }
  ]
}