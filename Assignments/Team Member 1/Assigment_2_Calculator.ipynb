{
  "nbformat": 4,
  "nbformat_minor": 0,
  "metadata": {
    "colab": {
      "provenance": [],
      "collapsed_sections": []
    },
    "kernelspec": {
      "name": "python3",
      "display_name": "Python 3"
    },
    "language_info": {
      "name": "python"
    }
  },
  "cells": [
    {
      "cell_type": "markdown",
      "source": [
        "# **Calculator Program**"
      ],
      "metadata": {
        "id": "74TwATZBTr9b"
      }
    },
    {
      "cell_type": "code",
      "execution_count": 3,
      "metadata": {
        "colab": {
          "base_uri": "https://localhost:8080/"
        },
        "id": "CrNQIhtHHsM3",
        "outputId": "1e0319e3-8724-4fe9-de05-79a9a8585fc5"
      },
      "outputs": [
        {
          "output_type": "stream",
          "name": "stdout",
          "text": [
            "1. Add \n",
            "2. Subtract \n",
            "3. Multiply \n",
            "4. Divide \n",
            "5.Exit\n",
            " Enter an option\n",
            "1\n",
            "Enter n1: 8\n",
            "Enter n2: 19\n",
            "8.0 + 19.0 = 27.0\n",
            "1. Add \n",
            "2. Subtract \n",
            "3. Multiply \n",
            "4. Divide \n",
            "5.Exit\n",
            " Enter an option\n",
            "3\n",
            "Enter n1: 10\n",
            "Enter n2: 0\n",
            "10.0 * 0.0 = 0.0\n",
            "1. Add \n",
            "2. Subtract \n",
            "3. Multiply \n",
            "4. Divide \n",
            "5.Exit\n",
            " Enter an option\n",
            "2\n",
            "Enter n1: 200\n",
            "Enter n2: 230\n",
            "200.0 - 230.0 = -30.0\n",
            "1. Add \n",
            "2. Subtract \n",
            "3. Multiply \n",
            "4. Divide \n",
            "5.Exit\n",
            " Enter an option\n",
            "4\n",
            "Enter n1: 90\n",
            "Enter n2: 21\n",
            "90.0 / 21.0 = 4.285714285714286\n",
            "1. Add \n",
            "2. Subtract \n",
            "3. Multiply \n",
            "4. Divide \n",
            "5.Exit\n",
            " Enter an option\n",
            "5\n",
            "Exiting\n"
          ]
        }
      ],
      "source": [
        "def add(x, y):\n",
        "    return x + y\n",
        "\n",
        "def sub(x, y):\n",
        "    return x - y\n",
        "\n",
        "def mul(x, y):\n",
        "    return x * y\n",
        "\n",
        "def div(x, y):\n",
        "    return x / y\n",
        "\n",
        "while True:\n",
        "    print(\"1. Add \\n2. Subtract \\n3. Multiply \\n4. Divide \\n5.Exit\\n Enter an option\")\n",
        "    choice = input()\n",
        "    if choice in ('1', '2', '3', '4'):\n",
        "        num1 = float(input(\"Enter n1: \"))\n",
        "        num2 = float(input(\"Enter n2: \"))\n",
        "\n",
        "        if choice == '1':\n",
        "            print(num1, \"+\", num2, \"=\", add(num1, num2))\n",
        "\n",
        "        elif choice == '2':\n",
        "            print(num1, \"-\", num2, \"=\", sub(num1, num2))\n",
        "\n",
        "        elif choice == '3':\n",
        "            print(num1, \"*\", num2, \"=\", mul(num1, num2))\n",
        "\n",
        "        elif choice == '4':\n",
        "            print(num1, \"/\", num2, \"=\", div(num1, num2))\n",
        "    else:\n",
        "        print(\"Exiting\")\n",
        "        break"
      ]
    }
  ]
}