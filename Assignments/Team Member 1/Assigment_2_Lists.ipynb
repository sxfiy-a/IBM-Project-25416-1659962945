{
  "nbformat": 4,
  "nbformat_minor": 0,
  "metadata": {
    "colab": {
      "provenance": []
    },
    "kernelspec": {
      "name": "python3",
      "display_name": "Python 3"
    },
    "language_info": {
      "name": "python"
    }
  },
  "cells": [
    {
      "cell_type": "markdown",
      "source": [
        "# **LISTS**"
      ],
      "metadata": {
        "id": "VKr53zK5agUh"
      }
    },
    {
      "cell_type": "code",
      "execution_count": 1,
      "metadata": {
        "id": "JVjC3U23adG1"
      },
      "outputs": [],
      "source": [
        "a = [1,2,3,4,5]\n",
        "b = ['Diya', 'Safiya', 'Pramodh', 'Nithin']"
      ]
    },
    {
      "cell_type": "code",
      "source": [
        "# Appending to listA\n",
        "\n",
        "a.append(6)\n",
        "print(b)"
      ],
      "metadata": {
        "colab": {
          "base_uri": "https://localhost:8080/"
        },
        "id": "_R0eApv_a4AM",
        "outputId": "1f00f75e-2764-41c9-94c0-bf4be86606cd"
      },
      "execution_count": 2,
      "outputs": [
        {
          "output_type": "stream",
          "name": "stdout",
          "text": [
            "['Diya', 'Safiya', 'Pramodh', 'Nithin']\n"
          ]
        }
      ]
    },
    {
      "cell_type": "code",
      "source": [
        "#Sorting\n",
        "b.sort()\n",
        "print(b)"
      ],
      "metadata": {
        "colab": {
          "base_uri": "https://localhost:8080/"
        },
        "id": "aBSkxEQybQhG",
        "outputId": "9b03c80d-2f3f-4b2b-9f11-96abae41eab1"
      },
      "execution_count": 3,
      "outputs": [
        {
          "output_type": "stream",
          "name": "stdout",
          "text": [
            "['Diya', 'Nithin', 'Pramodh', 'Safiya']\n"
          ]
        }
      ]
    },
    {
      "cell_type": "code",
      "source": [
        "#Inserting at particular position\n",
        "a.insert(2,100)\n",
        "print(a)"
      ],
      "metadata": {
        "colab": {
          "base_uri": "https://localhost:8080/"
        },
        "id": "FguzFd-qbR5R",
        "outputId": "45af610b-796e-4d8b-8fb6-36c57b972b13"
      },
      "execution_count": 4,
      "outputs": [
        {
          "output_type": "stream",
          "name": "stdout",
          "text": [
            "[1, 2, 100, 3, 4, 5, 6]\n"
          ]
        }
      ]
    },
    {
      "cell_type": "code",
      "source": [
        "#Removing from list\n",
        "a.remove(100)\n",
        "print(a)"
      ],
      "metadata": {
        "colab": {
          "base_uri": "https://localhost:8080/"
        },
        "id": "5J37ig1vbT5e",
        "outputId": "38177d5d-5955-4744-81ff-a0d387c23f30"
      },
      "execution_count": 5,
      "outputs": [
        {
          "output_type": "stream",
          "name": "stdout",
          "text": [
            "[1, 2, 3, 4, 5, 6]\n"
          ]
        }
      ]
    },
    {
      "cell_type": "code",
      "source": [
        "#Popping from list\n",
        "b.pop()\n",
        "print(b)"
      ],
      "metadata": {
        "colab": {
          "base_uri": "https://localhost:8080/"
        },
        "id": "lWDAIxCsbYTl",
        "outputId": "5a0ca536-a626-42e0-efb7-d14cb3529bb7"
      },
      "execution_count": 6,
      "outputs": [
        {
          "output_type": "stream",
          "name": "stdout",
          "text": [
            "['Diya', 'Nithin', 'Pramodh']\n"
          ]
        }
      ]
    },
    {
      "cell_type": "code",
      "source": [
        "# Reversing the list\n",
        "a.reverse()\n",
        "print(a)"
      ],
      "metadata": {
        "colab": {
          "base_uri": "https://localhost:8080/"
        },
        "id": "rWn3wY3jTlFW",
        "outputId": "61823386-a89e-4d54-f8c6-a305abde737c"
      },
      "execution_count": 9,
      "outputs": [
        {
          "output_type": "stream",
          "name": "stdout",
          "text": [
            "[6, 5, 4, 3, 2, 1]\n"
          ]
        }
      ]
    },
    {
      "cell_type": "code",
      "source": [
        "# Finding length of list\n",
        "print(len(a))"
      ],
      "metadata": {
        "colab": {
          "base_uri": "https://localhost:8080/"
        },
        "id": "7z1LLzk9Tz_D",
        "outputId": "e9ab6f27-5986-40ca-a27a-dfcd67c6f47b"
      },
      "execution_count": 11,
      "outputs": [
        {
          "output_type": "stream",
          "name": "stdout",
          "text": [
            "6\n"
          ]
        }
      ]
    }
  ]
}